{
 "cells": [
  {
   "cell_type": "code",
   "execution_count": 28,
   "metadata": {},
   "outputs": [],
   "source": [
    "import numpy as np\n",
    "import pandas as pd\n",
    "import matplotlib.pyplot as plt\n",
    "from scipy.integrate import simps\n",
    "from sklearn.preprocessing import StandardScaler\n",
    "import re\n",
    "from pandas.plotting import table\n",
    "import subprocess\n",
    "import os"
   ]
  },
  {
   "cell_type": "markdown",
   "metadata": {},
   "source": [
    "### Inputs"
   ]
  },
  {
   "cell_type": "code",
   "execution_count": 29,
   "metadata": {},
   "outputs": [],
   "source": [
    "dir_trec_outputs = \"/Users/simaonovais/Desktop/Mestrado/RI/Java/RI-lab3/results/batch\""
   ]
  },
  {
   "cell_type": "code",
   "execution_count": 30,
   "metadata": {},
   "outputs": [],
   "source": [
    "recall_order = [0,0.1,0.2,0.3,0.4,0.5,0.6,0.7,0.8,0.9,1]\n",
    "iprec_at_recallN = [\"iprec_at_recall_0.00\", \"iprec_at_recall_0.10\",\"iprec_at_recall_0.20\",\"iprec_at_recall_0.30\",\n",
    "                    \"iprec_at_recall_0.40\",\"iprec_at_recall_0.50\",\"iprec_at_recall_0.60\",\"iprec_at_recall_0.70\",\n",
    "                    \"iprec_at_recall_0.80\",\"iprec_at_recall_0.90\",\"iprec_at_recall_1.00\"]\n",
    "P_N = [\"P_5\",\"P_10\",\"P_15\",\"P_20\",\"P_30\",\"P_100\",\"P_200\",\"P_500\",\"P_1000\"]"
   ]
  },
  {
   "cell_type": "code",
   "execution_count": 31,
   "metadata": {},
   "outputs": [],
   "source": [
    "def preprocess(df_):\n",
    "    df_cpy = df_.copy()\n",
    "    # remove whitespaces that came from trec_eval \n",
    "    df_cpy = df_cpy.apply(lambda x: x.str.strip() if x.dtype == \"object\" else x)\n",
    "    # convert the number values that are represented as strings to be represented as floats\n",
    "    #make the dataframe a double index\n",
    "    df_cpy = df_cpy.set_index('Desc')\n",
    "    df_cpy.drop(\"Id\",axis=1,inplace=True)\n",
    "    df_cpy.loc[\"map\"].Values =  float(df_cpy.loc[\"map\"].Values)\n",
    "    return df_cpy\n",
    "idx = pd.IndexSlice"
   ]
  },
  {
   "cell_type": "markdown",
   "metadata": {},
   "source": [
    "### build ndarray of map values for each file in dir_trec_outputs"
   ]
  },
  {
   "cell_type": "code",
   "execution_count": 99,
   "metadata": {},
   "outputs": [],
   "source": [
    "all_maps = np.array([np.array([path,preprocess(pd.read_csv(os.path.join(dir_trec_outputs,path),delimiter='\\t',header=None,names = [\"Desc\",\"Id\",\"Values\"])).loc[\"map\"].Values]) for path in os.listdir(dir_trec_outputs) if path != \".DS_Store\"])"
   ]
  },
  {
   "cell_type": "markdown",
   "metadata": {},
   "source": [
    "## sort maps (ndarray)"
   ]
  },
  {
   "cell_type": "code",
   "execution_count": 100,
   "metadata": {},
   "outputs": [
    {
     "data": {
      "text/plain": [
       "array([['LMD_0.2.txt', '0.0266'],\n",
       "       ['LMD_0.4.txt', '0.0265'],\n",
       "       ['LMD_0.1.txt', '0.0265'],\n",
       "       ['LMD_0.3.txt', '0.0265'],\n",
       "       ['LMD_0.5.txt', '0.0264'],\n",
       "       ['LMD_0.6.txt', '0.0263'],\n",
       "       ['LMD_1.0.txt', '0.0261'],\n",
       "       ['LMD_1.5.txt', '0.0256'],\n",
       "       ['LMD_2.0.txt', '0.0251'],\n",
       "       ['LMD_2.5.txt', '0.0247'],\n",
       "       ['LMD_3.0.txt', '0.0245'],\n",
       "       ['LMD_3.5.txt', '0.0243'],\n",
       "       ['LMD_4.0.txt', '0.0239'],\n",
       "       ['LMD_4.5.txt', '0.0239'],\n",
       "       ['LMD_5.0.txt', '0.0235'],\n",
       "       ['LMD_5.5.txt', '0.0235'],\n",
       "       ['LMD_6.0.txt', '0.0234'],\n",
       "       ['LMD_6.5.txt', '0.0233'],\n",
       "       ['LMD_10.0.txt', '0.0224'],\n",
       "       ['LMD_40.0.txt', '0.0182'],\n",
       "       ['LMD_70.0.txt', '0.0166'],\n",
       "       ['LMD_100.0.txt', '0.0154'],\n",
       "       ['LMD_130.0.txt', '0.0146'],\n",
       "       ['LMD_160.0.txt', '0.0139'],\n",
       "       ['LMD_190.0.txt', '0.0131'],\n",
       "       ['LMD_220.0.txt', '0.0125'],\n",
       "       ['LMD_250.0.txt', '0.0121'],\n",
       "       ['LMD_280.0.txt', '0.0116'],\n",
       "       ['LMD_310.0.txt', '0.0111'],\n",
       "       ['LMD_340.0.txt', '0.0103'],\n",
       "       ['LMD_370.0.txt', '0.01'],\n",
       "       ['LMD_400.0.txt', '0.0098'],\n",
       "       ['LMD_430.0.txt', '0.0094'],\n",
       "       ['LMD_460.0.txt', '0.009'],\n",
       "       ['LMD_490.0.txt', '0.0088'],\n",
       "       ['LMD_520.0.txt', '0.0086'],\n",
       "       ['LMD_550.0.txt', '0.0084'],\n",
       "       ['LMD_580.0.txt', '0.0082'],\n",
       "       ['LMD_610.0.txt', '0.008'],\n",
       "       ['LMD_640.0.txt', '0.0077'],\n",
       "       ['LMD_670.0.txt', '0.0077'],\n",
       "       ['LMD_700.0.txt', '0.0076'],\n",
       "       ['LMD_730.0.txt', '0.0075'],\n",
       "       ['LMD_760.0.txt', '0.0074'],\n",
       "       ['LMD_790.0.txt', '0.0073'],\n",
       "       ['LMD_820.0.txt', '0.0072'],\n",
       "       ['LMD_850.0.txt', '0.0071']], dtype='<U13')"
      ]
     },
     "execution_count": 100,
     "metadata": {},
     "output_type": "execute_result"
    }
   ],
   "source": [
    "all_maps[all_maps[:,1].argsort()][::-1]"
   ]
  },
  {
   "cell_type": "code",
   "execution_count": null,
   "metadata": {},
   "outputs": [],
   "source": []
  }
 ],
 "metadata": {
  "kernelspec": {
   "display_name": "Python 3",
   "language": "python",
   "name": "python3"
  },
  "language_info": {
   "codemirror_mode": {
    "name": "ipython",
    "version": 3
   },
   "file_extension": ".py",
   "mimetype": "text/x-python",
   "name": "python",
   "nbconvert_exporter": "python",
   "pygments_lexer": "ipython3",
   "version": "3.6.4"
  }
 },
 "nbformat": 4,
 "nbformat_minor": 2
}
